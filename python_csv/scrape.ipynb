{
 "cells": [
  {
   "cell_type": "code",
   "execution_count": 14,
   "id": "852174a0",
   "metadata": {},
   "outputs": [],
   "source": [
    "import requests\n",
    "import bs4\n",
    "import csv"
   ]
  },
  {
   "cell_type": "code",
   "execution_count": 15,
   "id": "c599b9b7",
   "metadata": {},
   "outputs": [],
   "source": [
    "url = \"https://en.wikipedia.org/wiki/Comma-separated_values\"\n",
    "response = requests.get(url)\n",
    "html = response.text"
   ]
  },
  {
   "cell_type": "code",
   "execution_count": 20,
   "id": "6eb424b7",
   "metadata": {},
   "outputs": [],
   "source": [
    "soup = bs4.BeautifulSoup(html, \"html.parser\")\n",
    "table = soup.find_all(\"table\", class_=\"wikitable\")[0]"
   ]
  },
  {
   "cell_type": "code",
   "execution_count": 21,
   "id": "2ef72b6a",
   "metadata": {},
   "outputs": [
    {
     "data": {
      "text/plain": [
       "<table class=\"wikitable\">\n",
       "<tbody><tr>\n",
       "<th>Year</th>\n",
       "<th>Make</th>\n",
       "<th>Model</th>\n",
       "<th>Description</th>\n",
       "<th>Price\n",
       "</th></tr>\n",
       "<tr>\n",
       "<td>1997</td>\n",
       "<td>Ford</td>\n",
       "<td>E350</td>\n",
       "<td>ac, abs, moon</td>\n",
       "<td>3000.00\n",
       "</td></tr>\n",
       "<tr>\n",
       "<td>1999</td>\n",
       "<td>Chevy</td>\n",
       "<td>Venture \"Extended Edition\"</td>\n",
       "<td></td>\n",
       "<td>4900.00\n",
       "</td></tr>\n",
       "<tr>\n",
       "<td>1999</td>\n",
       "<td>Chevy</td>\n",
       "<td>Venture \"Extended Edition, Very Large\"</td>\n",
       "<td></td>\n",
       "<td>5000.00\n",
       "</td></tr>\n",
       "<tr>\n",
       "<td>1996</td>\n",
       "<td>Jeep</td>\n",
       "<td>Grand Cherokee</td>\n",
       "<td>MUST SELL!<br/>air, moon roof, loaded</td>\n",
       "<td>4799.00\n",
       "</td></tr></tbody></table>"
      ]
     },
     "execution_count": 21,
     "metadata": {},
     "output_type": "execute_result"
    }
   ],
   "source": [
    "table"
   ]
  },
  {
   "cell_type": "code",
   "execution_count": 25,
   "id": "bfe34d4a",
   "metadata": {},
   "outputs": [],
   "source": [
    "with open(\"exported.csv\", \"w\" ,encoding='utf-8') as file:\n",
    "    writer = csv.writer(file)\n",
    "    rows = table.find_all(\"tr\")\n",
    "    for r in rows:\n",
    "        csvRow = []\n",
    "        for cell in r.findAll(['td', 'th']):\n",
    "            csvRow.append(cell.get_text())\n",
    "        writer.writerow(csvRow)"
   ]
  },
  {
   "cell_type": "code",
   "execution_count": 26,
   "id": "6777b296",
   "metadata": {},
   "outputs": [
    {
     "data": {
      "text/html": [
       "<div>\n",
       "<style scoped>\n",
       "    .dataframe tbody tr th:only-of-type {\n",
       "        vertical-align: middle;\n",
       "    }\n",
       "\n",
       "    .dataframe tbody tr th {\n",
       "        vertical-align: top;\n",
       "    }\n",
       "\n",
       "    .dataframe thead th {\n",
       "        text-align: right;\n",
       "    }\n",
       "</style>\n",
       "<table border=\"1\" class=\"dataframe\">\n",
       "  <thead>\n",
       "    <tr style=\"text-align: right;\">\n",
       "      <th></th>\n",
       "      <th>Year</th>\n",
       "      <th>Make</th>\n",
       "      <th>Model</th>\n",
       "      <th>Description</th>\n",
       "      <th>Price\\r\\n</th>\n",
       "    </tr>\n",
       "  </thead>\n",
       "  <tbody>\n",
       "    <tr>\n",
       "      <th>0</th>\n",
       "      <td>1997</td>\n",
       "      <td>Ford</td>\n",
       "      <td>E350</td>\n",
       "      <td>ac, abs, moon</td>\n",
       "      <td>3000.0</td>\n",
       "    </tr>\n",
       "    <tr>\n",
       "      <th>1</th>\n",
       "      <td>1999</td>\n",
       "      <td>Chevy</td>\n",
       "      <td>Venture \"Extended Edition\"</td>\n",
       "      <td>NaN</td>\n",
       "      <td>4900.0</td>\n",
       "    </tr>\n",
       "    <tr>\n",
       "      <th>2</th>\n",
       "      <td>1999</td>\n",
       "      <td>Chevy</td>\n",
       "      <td>Venture \"Extended Edition, Very Large\"</td>\n",
       "      <td>NaN</td>\n",
       "      <td>5000.0</td>\n",
       "    </tr>\n",
       "    <tr>\n",
       "      <th>3</th>\n",
       "      <td>1996</td>\n",
       "      <td>Jeep</td>\n",
       "      <td>Grand Cherokee</td>\n",
       "      <td>MUST SELL!air, moon roof, loaded</td>\n",
       "      <td>4799.0</td>\n",
       "    </tr>\n",
       "  </tbody>\n",
       "</table>\n",
       "</div>"
      ],
      "text/plain": [
       "   Year   Make                                   Model  \\\n",
       "0  1997   Ford                                    E350   \n",
       "1  1999  Chevy              Venture \"Extended Edition\"   \n",
       "2  1999  Chevy  Venture \"Extended Edition, Very Large\"   \n",
       "3  1996   Jeep                          Grand Cherokee   \n",
       "\n",
       "                        Description  Price\\r\\n  \n",
       "0                     ac, abs, moon     3000.0  \n",
       "1                               NaN     4900.0  \n",
       "2                               NaN     5000.0  \n",
       "3  MUST SELL!air, moon roof, loaded     4799.0  "
      ]
     },
     "execution_count": 26,
     "metadata": {},
     "output_type": "execute_result"
    }
   ],
   "source": [
    "import pandas as pd\n",
    "pd.read_csv(\"exported.csv\")"
   ]
  },
  {
   "cell_type": "code",
   "execution_count": null,
   "id": "790f826d",
   "metadata": {},
   "outputs": [],
   "source": []
  }
 ],
 "metadata": {
  "kernelspec": {
   "display_name": "Python 3 (ipykernel)",
   "language": "python",
   "name": "python3"
  },
  "language_info": {
   "codemirror_mode": {
    "name": "ipython",
    "version": 3
   },
   "file_extension": ".py",
   "mimetype": "text/x-python",
   "name": "python",
   "nbconvert_exporter": "python",
   "pygments_lexer": "ipython3",
   "version": "3.9.12"
  }
 },
 "nbformat": 4,
 "nbformat_minor": 5
}
